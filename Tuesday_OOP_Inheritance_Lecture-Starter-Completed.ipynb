{
 "cells": [
  {
   "cell_type": "markdown",
   "metadata": {},
   "source": [
    "# Object-Oriented-Programming Inheritance and Importing Modules"
   ]
  },
  {
   "cell_type": "markdown",
   "metadata": {},
   "source": [
    "## Tasks Today:\n",
    "\n",
    "   \n",
    "1) <b>Dunder Methods</b> <br>\n",
    " &nbsp;&nbsp;&nbsp;&nbsp; a) The \\__str\\__() Methodo <br>\n",
    " &nbsp;&nbsp;&nbsp;&nbsp; b) The \\__repr\\__() Method <br>\n",
    " &nbsp;&nbsp;&nbsp;&nbsp; c) Other Magic Methods <br>\n",
    " &nbsp;&nbsp;&nbsp;&nbsp; d) In-Class Exercise #1 - Create a class Animal that displays the species and animal name when printed <br>  \n",
    "2) <b>Inheritance</b> <br>\n",
    " &nbsp;&nbsp;&nbsp;&nbsp; a) Syntax for Inheriting from a Parent Class <br>\n",
    " &nbsp;&nbsp;&nbsp;&nbsp; b) The \\__init\\__() Method for a Child Class (super()) <br>\n",
    " &nbsp;&nbsp;&nbsp;&nbsp; c) Defining Attributes and Methods for the Child Class <br>\n",
    " &nbsp;&nbsp;&nbsp;&nbsp; d) Method Overriding <br>\n",
    " &nbsp;&nbsp;&nbsp;&nbsp; e) In-Class Exercise #2 - Create a class 'Ford' that inherits from 'Car' class and initialize it as a Blue Ford Explorer with 4 wheels using the super() method <br>\n",
    "3) <b>Modules</b> <br>\n",
    " &nbsp;&nbsp;&nbsp;&nbsp; a) Importing Modules<br>\n",
    " &nbsp;&nbsp;&nbsp;&nbsp; b) Importing from modules <br>\n",
    " &nbsp;&nbsp;&nbsp;&nbsp; c) Aliasing <br>\n",
    " &nbsp;&nbsp;&nbsp;&nbsp; d) Creating Modules <br>\n",
    "4) <b>Exercises</b> <br>\n",
    " &nbsp;&nbsp;&nbsp;&nbsp; a) Exercise #1 - Sales and Development Employees Inheritance <br>\n",
    " &nbsp;&nbsp;&nbsp;&nbsp; b) Exercise #2 - Geomerty Module"
   ]
  },
  {
   "cell_type": "markdown",
   "metadata": {},
   "source": [
    "### Warm Up"
   ]
  },
  {
   "cell_type": "markdown",
   "metadata": {},
   "source": [
    "Create two classes: one for a user that includes username, email, and password. Another for posts that has a title, body, and author. The author should be an instance of user. Then create an instance of User and Post."
   ]
  },
  {
   "cell_type": "code",
   "execution_count": null,
   "metadata": {},
   "outputs": [],
   "source": []
  },
  {
   "cell_type": "markdown",
   "metadata": {},
   "source": [
    "## Dunder Methods"
   ]
  },
  {
   "cell_type": "markdown",
   "metadata": {},
   "source": [
    "#### \\__str\\__()"
   ]
  },
  {
   "cell_type": "code",
   "execution_count": 4,
   "metadata": {},
   "outputs": [
    {
     "name": "stdout",
     "output_type": "stream",
     "text": [
      "red Toyota Camry\n",
      "blue Honda Civiv\n"
     ]
    }
   ],
   "source": [
    "# __str__ is the method that is invokded when you call print on your object\n",
    "\n",
    "class Car:\n",
    "    def __init__(self, color, make, model):\n",
    "        self.color = color\n",
    "        self.make = make\n",
    "        self.model = model\n",
    "        \n",
    "    def __str__(self):\n",
    "        return f\"{self.color} {self.make} {self.model}\"\n",
    "        \n",
    "        \n",
    "car1 = Car('red', 'Toyota', 'Camry')\n",
    "car2 = Car('blue', 'Honda', 'Civiv')\n",
    "\n",
    "print(car1)\n",
    "print(car2)"
   ]
  },
  {
   "cell_type": "markdown",
   "metadata": {},
   "source": [
    "#### \\__repr\\__()"
   ]
  },
  {
   "cell_type": "code",
   "execution_count": 5,
   "metadata": {
    "scrolled": true
   },
   "outputs": [
    {
     "name": "stdout",
     "output_type": "stream",
     "text": [
      "red Toyota Camry\n",
      "blue Honda Civic\n"
     ]
    }
   ],
   "source": [
    "# Developer Friendly Way of vieiwing our objects vs user-friendly\n",
    "# built-in print function will user __repr__ if __str__ is not defined\n",
    "\n",
    "class Car:\n",
    "    def __init__(self, car_id, color, make, model):\n",
    "        self.id = car_id\n",
    "        self.color = color\n",
    "        self.make = make\n",
    "        self.model = model\n",
    "        \n",
    "    def __str__(self):\n",
    "        return f\"{self.color} {self.make} {self.model}\"\n",
    "    \n",
    "    def __repr__(self):\n",
    "        return f\"<Car {self.id}|{self.make} {self.model}>\"\n",
    "    \n",
    "    \n",
    "car1 = Car(1, 'red', 'Toyota', 'Camry')\n",
    "car2 = Car(2, 'blue', 'Honda', 'Civic')\n",
    "\n",
    "print(car1)\n",
    "print(car2)"
   ]
  },
  {
   "cell_type": "code",
   "execution_count": 6,
   "metadata": {},
   "outputs": [
    {
     "data": {
      "text/plain": [
       "<Car 1|Toyota Camry>"
      ]
     },
     "execution_count": 6,
     "metadata": {},
     "output_type": "execute_result"
    }
   ],
   "source": [
    "car1"
   ]
  },
  {
   "cell_type": "code",
   "execution_count": 7,
   "metadata": {},
   "outputs": [
    {
     "data": {
      "text/plain": [
       "<Car 2|Honda Civic>"
      ]
     },
     "execution_count": 7,
     "metadata": {},
     "output_type": "execute_result"
    }
   ],
   "source": [
    "car2"
   ]
  },
  {
   "cell_type": "code",
   "execution_count": 8,
   "metadata": {},
   "outputs": [
    {
     "name": "stdout",
     "output_type": "stream",
     "text": [
      "[<Car 1|Toyota Camry>, <Car 2|Honda Civic>]\n"
     ]
    }
   ],
   "source": [
    "cars = [car1, car2]\n",
    "print(cars)"
   ]
  },
  {
   "cell_type": "markdown",
   "metadata": {},
   "source": [
    "#### \\__lt\\__(), \\__lte\\__(), \\__eq\\__(), etc"
   ]
  },
  {
   "cell_type": "code",
   "execution_count": 9,
   "metadata": {},
   "outputs": [
    {
     "name": "stdout",
     "output_type": "stream",
     "text": [
      "Wallet: $1.25 x 1\n",
      "Marker: $1.25 x 5\n"
     ]
    }
   ],
   "source": [
    "class Item:\n",
    "    def __init__(self, name, price, quantity):\n",
    "        self.name = name\n",
    "        self.price = price\n",
    "        self.quantity = quantity\n",
    "        \n",
    "    def __str__(self):\n",
    "        return f\"{self.name}: ${self.price:.2f} x {self.quantity}\"\n",
    "    \n",
    "    def __repr__(self):\n",
    "        return f\"<Item | {self.name}>\"\n",
    "    \n",
    "    def __lt__(self, other_item):\n",
    "        return self.price * self.quantity < other_item.price * other_item.quantity\n",
    "    \n",
    "    def __le__(self, other_item):\n",
    "        return self.price * self.quantity <= other_item.price * other_item.quantity\n",
    "    \n",
    "    def __eq__(self, other_item):\n",
    "        return self.price * self.quantity == other_item.price * other_item.quantity\n",
    "    \n",
    "    def __add__(self, value_to_add):\n",
    "        self.quantity += value_to_add\n",
    "        return self\n",
    "    \n",
    "    def __sub__(self, value_to_subtract):\n",
    "        self.quantity -= value_to_subtract\n",
    "        return self\n",
    "    \n",
    "item1 = Item('Wallet', 1.25, 1)\n",
    "item2 = Item('Marker', 1.25, 5)\n",
    "\n",
    "print(item1)\n",
    "print(item2)"
   ]
  },
  {
   "cell_type": "code",
   "execution_count": 10,
   "metadata": {},
   "outputs": [
    {
     "name": "stdout",
     "output_type": "stream",
     "text": [
      "True\n"
     ]
    }
   ],
   "source": [
    "print(item1 <= item2)"
   ]
  },
  {
   "cell_type": "code",
   "execution_count": 11,
   "metadata": {},
   "outputs": [
    {
     "name": "stdout",
     "output_type": "stream",
     "text": [
      "Marker: $1.25 x 5\n",
      "Marker: $1.25 x 8\n"
     ]
    }
   ],
   "source": [
    "print(item2)\n",
    "item2 += 3\n",
    "print(item2)"
   ]
  },
  {
   "cell_type": "code",
   "execution_count": 12,
   "metadata": {},
   "outputs": [
    {
     "name": "stdout",
     "output_type": "stream",
     "text": [
      "Wallet: $1.25 x 11\n"
     ]
    }
   ],
   "source": [
    "print(item1 + 10)"
   ]
  },
  {
   "cell_type": "code",
   "execution_count": 13,
   "metadata": {},
   "outputs": [
    {
     "name": "stdout",
     "output_type": "stream",
     "text": [
      "Wallet: $1.25 x 11\n",
      "Wallet: $1.25 x 6\n"
     ]
    }
   ],
   "source": [
    "print(item1)\n",
    "item1 -= 5\n",
    "print(item1)"
   ]
  },
  {
   "cell_type": "code",
   "execution_count": 14,
   "metadata": {
    "scrolled": true
   },
   "outputs": [
    {
     "name": "stdout",
     "output_type": "stream",
     "text": [
      "2\n",
      "True\n",
      "True\n",
      "False\n"
     ]
    }
   ],
   "source": [
    "class Cart:\n",
    "    def __init__(self):\n",
    "        self.products = []\n",
    "        \n",
    "    def add_to_cart(self, item):\n",
    "        self.products.append(item)\n",
    "        \n",
    "    def __len__(self):\n",
    "        return len(self.products)\n",
    "    \n",
    "    def __contains__(self, item_name):\n",
    "        for item in self.products:\n",
    "            if item.name.lower() == item_name.lower():\n",
    "                return True\n",
    "        return False\n",
    "        \n",
    "    \n",
    "my_cart = Cart()\n",
    "\n",
    "my_cart.add_to_cart(item1)\n",
    "my_cart.add_to_cart(item2)\n",
    "\n",
    "print(len(my_cart))\n",
    "\n",
    "print('Marker' in my_cart)\n",
    "print('wallet' in my_cart)\n",
    "print('Mug' in my_cart)"
   ]
  },
  {
   "cell_type": "code",
   "execution_count": 15,
   "metadata": {},
   "outputs": [
    {
     "data": {
      "text/plain": [
       "2"
      ]
     },
     "execution_count": 15,
     "metadata": {},
     "output_type": "execute_result"
    }
   ],
   "source": [
    "len(my_cart)"
   ]
  },
  {
   "cell_type": "markdown",
   "metadata": {},
   "source": [
    "#### In-class Exercise 1"
   ]
  },
  {
   "cell_type": "code",
   "execution_count": 1,
   "metadata": {},
   "outputs": [],
   "source": [
    "# Create a class Animal that displays the name and species when printed\n",
    "\n"
   ]
  },
  {
   "cell_type": "markdown",
   "metadata": {},
   "source": [
    "## Inheritance <br>\n",
    "<p>You can create a child-parent relationship between two classes by using inheritance. What this allows you to do is have overriding methods, but also inherit traits from the parent class. Think of it as an actual parent and child, the child will inherit the parent's genes, as will the classes in OOP</p>"
   ]
  },
  {
   "cell_type": "markdown",
   "metadata": {},
   "source": [
    "##### Syntax for Inheriting from a Parent Class"
   ]
  },
  {
   "cell_type": "code",
   "execution_count": 17,
   "metadata": {},
   "outputs": [
    {
     "name": "stdout",
     "output_type": "stream",
     "text": [
      "Length: 10 x Width: 15\n",
      "This is the Rectangle area method\n",
      "150\n",
      "50\n",
      "====================\n",
      "Length: 5 x Width: 5\n",
      "This is the Square area method\n",
      "25\n",
      "20\n",
      "4\n"
     ]
    }
   ],
   "source": [
    "# Syntax: class Child(Parent):\n",
    "\n",
    "class Rectangle: # Parent Class\n",
    "    sides = 4 # Class attribute\n",
    "    \n",
    "    def __init__(self, length, width):\n",
    "        self.length = length\n",
    "        self.width = width\n",
    "        \n",
    "    def __str__(self):\n",
    "        return f\"Length: {self.length} x Width: {self.width}\"\n",
    "    \n",
    "    def area(self):\n",
    "        print('This is the Rectangle area method')\n",
    "        return self.length * self.width\n",
    "    \n",
    "    def perimeter(self):\n",
    "        return 2*self.length + 2*self.width\n",
    "\n",
    "class Square(Rectangle):\n",
    "    def area(self):\n",
    "        print('This is the Square area method')\n",
    "        return self.length ** 2\n",
    "    \n",
    "my_rectangle = Rectangle(10, 15)\n",
    "\n",
    "print(my_rectangle)\n",
    "print(my_rectangle.area())\n",
    "print(my_rectangle.perimeter())\n",
    "print('='*20)\n",
    "my_square = Square(5,5)\n",
    "print(my_square)\n",
    "print(my_square.area())\n",
    "print(my_square.perimeter())\n",
    "print(my_square.sides)"
   ]
  },
  {
   "cell_type": "code",
   "execution_count": 18,
   "metadata": {},
   "outputs": [
    {
     "name": "stdout",
     "output_type": "stream",
     "text": [
      "Help on class Square in module __main__:\n",
      "\n",
      "class Square(Rectangle)\n",
      " |  Square(length, width)\n",
      " |  \n",
      " |  Method resolution order:\n",
      " |      Square\n",
      " |      Rectangle\n",
      " |      builtins.object\n",
      " |  \n",
      " |  Methods defined here:\n",
      " |  \n",
      " |  area(self)\n",
      " |  \n",
      " |  ----------------------------------------------------------------------\n",
      " |  Methods inherited from Rectangle:\n",
      " |  \n",
      " |  __init__(self, length, width)\n",
      " |      Initialize self.  See help(type(self)) for accurate signature.\n",
      " |  \n",
      " |  __str__(self)\n",
      " |      Return str(self).\n",
      " |  \n",
      " |  perimeter(self)\n",
      " |  \n",
      " |  ----------------------------------------------------------------------\n",
      " |  Data descriptors inherited from Rectangle:\n",
      " |  \n",
      " |  __dict__\n",
      " |      dictionary for instance variables (if defined)\n",
      " |  \n",
      " |  __weakref__\n",
      " |      list of weak references to the object (if defined)\n",
      " |  \n",
      " |  ----------------------------------------------------------------------\n",
      " |  Data and other attributes inherited from Rectangle:\n",
      " |  \n",
      " |  sides = 4\n",
      "\n"
     ]
    }
   ],
   "source": [
    "help(Square)"
   ]
  },
  {
   "cell_type": "markdown",
   "metadata": {},
   "source": [
    "##### The \\__init\\__() Method for a Child Class - super()"
   ]
  },
  {
   "cell_type": "code",
   "execution_count": 19,
   "metadata": {
    "scrolled": true
   },
   "outputs": [
    {
     "name": "stdout",
     "output_type": "stream",
     "text": [
      "Square __init__\n",
      "Rectangle __init__\n",
      "5\n",
      "7.0710678118654755\n"
     ]
    }
   ],
   "source": [
    "class Rectangle: # Parent Class\n",
    "    sides = 4 # Class attribute\n",
    "    \n",
    "    def __init__(self, length, width):\n",
    "        print('Rectangle __init__')\n",
    "        self.length = length\n",
    "        self.width = width\n",
    "        \n",
    "    def __str__(self):\n",
    "        return f\"Length: {self.length} x Width: {self.width}\"\n",
    "    \n",
    "    def area(self):\n",
    "        print('This is the Rectangle area method')\n",
    "        return self.length * self.width\n",
    "    \n",
    "    def perimeter(self):\n",
    "        return 2*self.length + 2*self.width\n",
    "\n",
    "class Square(Rectangle):\n",
    "    def __init__(self, side):\n",
    "        print('Square __init__')\n",
    "        super().__init__(side, side)\n",
    "        self.hypotenuse = side * (2**(1/2))\n",
    "        \n",
    "    def area(self):\n",
    "        print('This is the Square area method')\n",
    "        return self.length ** 2\n",
    "    \n",
    "# my_rectangle = Rectangle(10, 15)\n",
    "        \n",
    "my_square = Square(5)\n",
    "print(my_square.length)\n",
    "print(my_square.hypotenuse)"
   ]
  },
  {
   "cell_type": "markdown",
   "metadata": {},
   "source": [
    "#### In-class Exercise 2"
   ]
  },
  {
   "cell_type": "markdown",
   "metadata": {},
   "source": [
    "Create a Car class that has a drive and fill up method, and then create a Ford class that inherits from the car class."
   ]
  },
  {
   "cell_type": "code",
   "execution_count": 20,
   "metadata": {},
   "outputs": [
    {
     "name": "stdout",
     "output_type": "stream",
     "text": [
      "Ford\n",
      "blue Ford Focus is driving\n",
      "Filling up blue Ford Focus\n"
     ]
    }
   ],
   "source": [
    "\n",
    "\n",
    "\n",
    "my_car = Ford('blue', 'Focus')\n",
    "\n",
    "print(my_car.make) # 'Ford'\n",
    "\n",
    "my_car.drive() # 'blue Ford Focus is driving'\n",
    "\n",
    "my_car.fill_up() # 'Filling up blue Ford Focus'\n"
   ]
  },
  {
   "cell_type": "markdown",
   "metadata": {},
   "source": [
    "## Modules"
   ]
  },
  {
   "cell_type": "markdown",
   "metadata": {},
   "source": [
    "##### Importing Entire Modules"
   ]
  },
  {
   "cell_type": "code",
   "execution_count": 21,
   "metadata": {},
   "outputs": [
    {
     "name": "stdout",
     "output_type": "stream",
     "text": [
      "<module 'math' (built-in)>\n"
     ]
    }
   ],
   "source": [
    "# import name_of_module\n",
    "# https://docs.python.org/3/library/math.html\n",
    "import math\n",
    "print(math)"
   ]
  },
  {
   "cell_type": "code",
   "execution_count": 22,
   "metadata": {},
   "outputs": [
    {
     "name": "stdout",
     "output_type": "stream",
     "text": [
      "120\n",
      "3.141592653589793\n"
     ]
    }
   ],
   "source": [
    "five_factorial = math.factorial(5)\n",
    "print(five_factorial)\n",
    "\n",
    "print(math.pi)"
   ]
  },
  {
   "cell_type": "markdown",
   "metadata": {},
   "source": [
    "##### Importing Methods Only"
   ]
  },
  {
   "cell_type": "code",
   "execution_count": 23,
   "metadata": {},
   "outputs": [
    {
     "name": "stdout",
     "output_type": "stream",
     "text": [
      "<function mean at 0x000001F6CC826EE0>\n",
      "<function median at 0x000001F6CC83E160>\n",
      "13.916666666666666\n",
      "7.0\n"
     ]
    }
   ],
   "source": [
    "# https://docs.python.org/3/library/statistics.html\n",
    "# from module_name import class, function, constant, etc.\n",
    "from statistics import mean, median\n",
    "\n",
    "# print(statistics) # NameError: name 'statistics' is not defined\n",
    "print(mean)\n",
    "print(median)\n",
    "\n",
    "my_list = [2, 3, 6, 3, 7, 8, 32, 23, 34, 35, 7, 7]\n",
    "\n",
    "print(mean(my_list))\n",
    "print(median(my_list))"
   ]
  },
  {
   "cell_type": "markdown",
   "metadata": {},
   "source": [
    "##### Using the 'as' Keyword"
   ]
  },
  {
   "cell_type": "code",
   "execution_count": 24,
   "metadata": {},
   "outputs": [
    {
     "name": "stdout",
     "output_type": "stream",
     "text": [
      "<bound method Random.randint of <random.Random object at 0x000001F6C8CD0340>>\n",
      "5\n"
     ]
    }
   ],
   "source": [
    "# import module as new_name\n",
    "# from module import function as f\n",
    "# https://docs.python.org/3/library/random.html\n",
    "from random import randint as get_a_random_number\n",
    "\n",
    "print(get_a_random_number)\n",
    "\n",
    "print(get_a_random_number(1,10))"
   ]
  },
  {
   "cell_type": "code",
   "execution_count": 25,
   "metadata": {},
   "outputs": [
    {
     "name": "stdout",
     "output_type": "stream",
     "text": [
      "<module 'collections' from 'C:\\\\Users\\\\bstan\\\\anaconda3\\\\envs\\\\intro\\\\lib\\\\collections\\\\__init__.py'>\n",
      "<class 'collections.Counter'>\n",
      "Counter({3: 10, 2: 6, 4: 5, 5: 4, 1: 3, 6: 1})\n"
     ]
    }
   ],
   "source": [
    "# https://docs.python.org/3/library/collections.html#collections.Counter\n",
    "import collections as col\n",
    "\n",
    "print(col)\n",
    "print(col.Counter)\n",
    "\n",
    "num_count = col.Counter([1,1,2,3,2,2,3,3,4,4,5,6,5,4,3,3,2,3,4,5,4,3,2,3,3,5,3,2,1])\n",
    "\n",
    "print(num_count)"
   ]
  },
  {
   "cell_type": "markdown",
   "metadata": {},
   "source": [
    "### Creating Own Module"
   ]
  },
  {
   "cell_type": "code",
   "execution_count": 26,
   "metadata": {},
   "outputs": [
    {
     "name": "stdout",
     "output_type": "stream",
     "text": [
      "Hello this is the test module!\n"
     ]
    }
   ],
   "source": [
    "# Using VS Code\n",
    "import test_module"
   ]
  },
  {
   "cell_type": "code",
   "execution_count": 27,
   "metadata": {},
   "outputs": [
    {
     "name": "stdout",
     "output_type": "stream",
     "text": [
      "<module 'test_module' from 'C:\\\\Users\\\\bstan\\\\Documents\\\\codingtemple-kekambas-102\\\\week3\\\\day2\\\\test_module.py'>\n"
     ]
    }
   ],
   "source": [
    "print(test_module)\n"
   ]
  },
  {
   "cell_type": "code",
   "execution_count": 28,
   "metadata": {},
   "outputs": [
    {
     "name": "stdout",
     "output_type": "stream",
     "text": [
      "Hello Brian. How are you today? I hope you are doing well!\n"
     ]
    }
   ],
   "source": [
    "test_module.greet('brIAn')"
   ]
  },
  {
   "cell_type": "code",
   "execution_count": 29,
   "metadata": {},
   "outputs": [
    {
     "name": "stdout",
     "output_type": "stream",
     "text": [
      "Goodbye Stanton. It was a pleasure seeing you.\n"
     ]
    }
   ],
   "source": [
    "test_module.leave('Stanton')"
   ]
  },
  {
   "cell_type": "code",
   "execution_count": 30,
   "metadata": {},
   "outputs": [
    {
     "name": "stdout",
     "output_type": "stream",
     "text": [
      "<function leave at 0x000001F6CC80CE50>\n"
     ]
    }
   ],
   "source": [
    "from test_module import leave as say_bye\n",
    "\n",
    "print(say_bye)"
   ]
  },
  {
   "cell_type": "code",
   "execution_count": 31,
   "metadata": {},
   "outputs": [
    {
     "name": "stdout",
     "output_type": "stream",
     "text": [
      "Goodbye Yellow Brick Road. It was a pleasure seeing you.\n"
     ]
    }
   ],
   "source": [
    "say_bye('Yellow brick road')"
   ]
  },
  {
   "cell_type": "code",
   "execution_count": 32,
   "metadata": {},
   "outputs": [
    {
     "name": "stdout",
     "output_type": "stream",
     "text": [
      "The __init__.py file is being run\n"
     ]
    }
   ],
   "source": [
    "# Folder Modules\n",
    "import folder_module"
   ]
  },
  {
   "cell_type": "code",
   "execution_count": 33,
   "metadata": {},
   "outputs": [
    {
     "data": {
      "text/plain": [
       "30"
      ]
     },
     "execution_count": 33,
     "metadata": {},
     "output_type": "execute_result"
    }
   ],
   "source": [
    "folder_module.add_nums(10, 20)"
   ]
  },
  {
   "cell_type": "code",
   "execution_count": 34,
   "metadata": {},
   "outputs": [
    {
     "name": "stdout",
     "output_type": "stream",
     "text": [
      "<module 'folder_module' from 'C:\\\\Users\\\\bstan\\\\Documents\\\\codingtemple-kekambas-102\\\\week3\\\\day2\\\\folder_module\\\\__init__.py'>\n"
     ]
    }
   ],
   "source": [
    "print(folder_module)"
   ]
  }
 ],
 "metadata": {
  "kernelspec": {
   "display_name": "Python 3",
   "language": "python",
   "name": "python3"
  },
  "language_info": {
   "codemirror_mode": {
    "name": "ipython",
    "version": 3
   },
   "file_extension": ".py",
   "mimetype": "text/x-python",
   "name": "python",
   "nbconvert_exporter": "python",
   "pygments_lexer": "ipython3",
   "version": "3.8.5"
  }
 },
 "nbformat": 4,
 "nbformat_minor": 2
}
