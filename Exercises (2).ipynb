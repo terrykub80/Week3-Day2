{
 "cells": [
  {
   "cell_type": "markdown",
   "metadata": {},
   "source": [
    "#### Exercise 1 - Class Inheritance"
   ]
  },
  {
   "cell_type": "code",
   "execution_count": null,
   "metadata": {},
   "outputs": [],
   "source": [
    "def lines():\n",
    "    print('-'*100)"
   ]
  },
  {
   "cell_type": "markdown",
   "metadata": {},
   "source": [
    "Create an Employee class that sets an employee's first name, last name, job title, salary, and email. The Employee class should have a class attribute for the raise amount set to 5% (1.05). Create a method that will apply the raise to an employee's salary."
   ]
  },
  {
   "cell_type": "code",
   "execution_count": null,
   "metadata": {},
   "outputs": [],
   "source": [
    "class Employee:\n",
    "    raise_amount = 1.05\n",
    "    \n",
    "    def __init__(self, first_name, last_name, job_title, salary):\n",
    "        self.first = first_name\n",
    "        self.last = last_name\n",
    "        self.job = job_title\n",
    "        self.salary = salary\n",
    "        self.email = first_name.lower() + \".\" + last_name.lower() + \"@.nocompany.org\"\n",
    "        self.full_name = self.first.title() + \" \" + self.last.title()\n",
    "        \n",
    "    def get_raise(self):\n",
    "        self.salary *= Employee.raise_amount\n",
    "        print(f\"Congratulations {self.first.title()}, your new salary is ${self.salary:.2f}!\")\n"
   ]
  },
  {
   "cell_type": "markdown",
   "metadata": {},
   "source": [
    "Create two more classes that inherit from the Employee class. One for Sales and one for Development. Both of these classes will have the same attributes as the Employee.<br>\n",
    "- For the Sales employees, add a phone number attribute on instantiation using the super method. \n",
    "- Create a method on the Sales class that will Send a Follow Up Email. It should take in a customer name and \"send\" aka print a formatted email \"Dear *customer*, Thank you for your interest in our product. Please let me know if you have any questions. My email is *email* or my phone number is *phone number*. Thanks, *full name*\"\n",
    "- Create a method on the Development class called code that will print out \"*full name* is writing code\"."
   ]
  },
  {
   "cell_type": "code",
   "execution_count": null,
   "metadata": {},
   "outputs": [],
   "source": [
    "class Sales(Employee):\n",
    "    def __init__(self, first_name, last_name, job_title, salary, phone_number):\n",
    "        super().__init__(first_name, last_name, job_title, salary)\n",
    "        self.phone_number = phone_number\n",
    "        \n",
    "    def send_email(self, customer):\n",
    "        print(f\"Dear {customer.title()},\\n\\tThank you for your interest in our product. Please let me know if you have any questions.\\nMy email is {self.email} or my phone number is {self.phone_number}.\\n\\nThanks,\\n{self.full_name}\")\n",
    "\n",
    "\n",
    "class Development(Employee):\n",
    "    def working(self):\n",
    "        print(f\"{self.full_name} is writing code.\")\n",
    "        \n",
    "\n",
    "\n"
   ]
  },
  {
   "cell_type": "markdown",
   "metadata": {},
   "source": [
    "- Create an instance of a Sales Employee with a salary of $50,000.\n",
    "- Send follow up emails to \"Mike O'Neil\" and \"Hannah Stern\"\n",
    "- Give the employee a raise and print the salary"
   ]
  },
  {
   "cell_type": "code",
   "execution_count": null,
   "metadata": {},
   "outputs": [],
   "source": [
    "Terry = Sales('terry', 'ryan', 'Sales Rep', 50000, '(315)489-9210')\n",
    "\n",
    "Terry.send_email(\"Mike O'Neil\")\n",
    "lines()\n",
    "Terry.send_email(\"Hannah Stern\")\n",
    "lines()\n",
    "Terry.get_raise()\n"
   ]
  },
  {
   "cell_type": "markdown",
   "metadata": {},
   "source": [
    "- Create an instance of a Development Employee with a salary of $100,000\n",
    "- Write some code with this employee (aka call the code method)\n",
    "- Give the employee a raise and print the salary"
   ]
  },
  {
   "cell_type": "code",
   "execution_count": null,
   "metadata": {},
   "outputs": [],
   "source": [
    "Terry = Development('terry', 'ryan', 'Sales Rep', 100000)\n",
    "Terry.working()\n",
    "lines()\n",
    "Terry.get_raise()"
   ]
  },
  {
   "cell_type": "markdown",
   "metadata": {},
   "source": [
    "#### Exercise 2 - Importing Modules"
   ]
  },
  {
   "cell_type": "markdown",
   "metadata": {},
   "source": [
    "In VS Code, create a module titled `geometry` and add two functions in there. One that will calculate the area of a circle given a radius. The second will find the hypotenuse of a right angle given the two sides. Import the module or the functions from the module and use it to find the answers to the below questions"
   ]
  },
  {
   "cell_type": "code",
   "execution_count": 1,
   "metadata": {},
   "outputs": [],
   "source": [
    "import geometry_module"
   ]
  },
  {
   "cell_type": "markdown",
   "metadata": {},
   "source": [
    "What is the area of a circle with a radius of 7cm?"
   ]
  },
  {
   "cell_type": "code",
   "execution_count": 2,
   "metadata": {},
   "outputs": [
    {
     "name": "stdout",
     "output_type": "stream",
     "text": [
      "What is your circle's radius in centimeters? 7\n",
      "The area of your circle is 153.93804002589985!\n"
     ]
    }
   ],
   "source": [
    "geometry_module.circle_area()"
   ]
  },
  {
   "cell_type": "markdown",
   "metadata": {},
   "source": [
    "What is the hypotenuse of a right angle with sides of 3in and 4in?"
   ]
  },
  {
   "cell_type": "code",
   "execution_count": 3,
   "metadata": {},
   "outputs": [
    {
     "name": "stdout",
     "output_type": "stream",
     "text": [
      "How many inches is the first side? 3\n",
      "Thanks! Now how many inches is the second side? 4\n",
      "The hypotonuse of your triangle is 5.0 inches!\n"
     ]
    }
   ],
   "source": [
    "geometry_module.hypot()"
   ]
  },
  {
   "cell_type": "code",
   "execution_count": null,
   "metadata": {},
   "outputs": [],
   "source": []
  },
  {
   "cell_type": "code",
   "execution_count": null,
   "metadata": {},
   "outputs": [],
   "source": []
  }
 ],
 "metadata": {
  "kernelspec": {
   "display_name": "Python 3 (ipykernel)",
   "language": "python",
   "name": "python3"
  },
  "language_info": {
   "codemirror_mode": {
    "name": "ipython",
    "version": 3
   },
   "file_extension": ".py",
   "mimetype": "text/x-python",
   "name": "python",
   "nbconvert_exporter": "python",
   "pygments_lexer": "ipython3",
   "version": "3.9.12"
  },
  "vscode": {
   "interpreter": {
    "hash": "f938c5c90056803d79bae700c3d73405346da5b97e3011922ac502e22cfadeb1"
   }
  }
 },
 "nbformat": 4,
 "nbformat_minor": 4
}
